{
 "cells": [
  {
   "cell_type": "code",
   "execution_count": 6,
   "metadata": {
    "id": "fLx7vmXRIjIg"
   },
   "outputs": [],
   "source": [
    "from pathlib import Path\n",
    "import urllib.request\n",
    "\n",
    "import pandas as pd\n",
    "from pandas import ExcelWriter\n",
    "\n",
    "import omigami"
   ]
  },
  {
   "cell_type": "markdown",
   "metadata": {
    "id": "lmxnXPA9IjIm"
   },
   "source": [
    "# How to use the Omigami API v1\n",
    "## Introduction\n",
    "\n",
    "This notebook aims to guide metabolomics researchers on how to calculate Spec2Vec similarity scores of MS spectra in a dataset when compared to a large body of annotated spectra.\n",
    "\n",
    "This notebook shows you how to load a MGF file, run the omigami interface and interpret the prediction results.\n",
    "\n",
    "### 1) (Down)load a MS/MS dataset (MGF format)\n",
    "You will need the `omigami.py` script which comes with this notebook\n",
    "\n",
    "The following python libraries are also needed :\n",
    "- `requests`\n",
    "- `json`\n",
    "- `matchms`\n",
    "\n",
    "Also, a relatively small MS/MS dataset (MGF format) is needed to follow through the upcoming example.  \n",
    "You can download a MS/MS dataset by browsing the [GNPS spectral library](https://gnps-external.ucsd.edu/gnpslibrary), or download a miscellaneous one by clicking [here](https://gnps-external.ucsd.edu/gnpslibrary/GNPS-COLLECTIONS-MISC.mgf).\n",
    "\n",
    "Please note that, in the MGF file, the Precursor_MZ field `PEPMASS` and the abundance pairs are required."
   ]
  },
  {
   "cell_type": "code",
   "execution_count": 7,
   "metadata": {
    "colab": {
     "base_uri": "https://localhost:8080/"
    },
    "id": "hfGUAXVbqUEx",
    "outputId": "244423a2-79ff-42c5-b13c-7c98afeca797"
   },
   "outputs": [
    {
     "data": {
      "text/plain": [
       "('/Users/pierre/Downloads/GNPS-COLLECTIONS-MISC.mgf',\n",
       " <http.client.HTTPMessage at 0x7fbe0a5eae50>)"
      ]
     },
     "execution_count": 7,
     "metadata": {},
     "output_type": "execute_result"
    }
   ],
   "source": [
    "# Download from GNPS\n",
    "url = 'https://gnps-external.ucsd.edu/gnpslibrary/GNPS-COLLECTIONS-MISC.mgf'\n",
    "\n",
    "home = str(Path.home())\n",
    "path_to_mgf = f'{home}/Downloads/GNPS-COLLECTIONS-MISC.mgf' # use your prefered saving path here\n",
    "\n",
    "urllib.request.urlretrieve(url, path_to_mgf)"
   ]
  },
  {
   "cell_type": "code",
   "execution_count": 8,
   "metadata": {
    "id": "cHX57WiaVX_o"
   },
   "outputs": [],
   "source": [
    "# Or load from local\n",
    "home = str(Path.home())\n",
    "path_to_mgf = f'{home}/Downloads/GNPS-COLLECTIONS-MISC.mgf'"
   ]
  },
  {
   "cell_type": "markdown",
   "metadata": {
    "id": "pDhTBpKkQWPJ"
   },
   "source": [
    "### 2) Call Omigami to compute Spec2Vec scores \n",
    "\n",
    "Omigami is a python wrapper which :\n",
    "- Builds a json payload from the MGF file\n",
    "- Calls the Omigami API\n",
    "- Formats the prediction results into readable dataframes\n",
    "\n",
    "(see the `omigami.py` file associated with this notebook)\n",
    "____\n",
    "Please note that the optional `n_best_spectra` parameter controls the number of predicted spectra returned per set of peaks (10 by default).\n",
    "\n",
    "In the results dataframes, the input spectra can be identified by their number in the dataframes index, which refers to their order in the MGF file.  \n",
    "*i.e.* `matches of spectrum 1` gives the spectrum_id and Spec2Vec scores of the predicted spectra, for the first spectrum in the MGF file.\n",
    "\n",
    "For each spectrum in the MGF file, the predicted set of spectra are sorted according to their Spec2Vec similarity score (best is first).   \n",
    "The following informations about the predicted spectra are returned by Omigami :\n",
    "- `score`, the Spec2Vec similarity score between the input spectrum and the predicted spectrum\n",
    "- `matches of spectrum #`, the spectrum_ID of the predicted spectra found by Spec2Vec for the spectrum number # in the MGF file"
   ]
  },
  {
   "cell_type": "code",
   "execution_count": 9,
   "metadata": {
    "id": "BHMpFDN2Pq8Z"
   },
   "outputs": [],
   "source": [
    "# Run Omigami\n",
    "spectra_predictions = omigami.run(mgf_file = path_to_mgf, n_best_spectra = 10)"
   ]
  },
  {
   "cell_type": "markdown",
   "metadata": {},
   "source": [
    "### 3) Save prediction results\n",
    "Omigami returns a list of dataframes. To visualize a specific dataframe you can call :\n",
    "```python\n",
    "spectra_predictions[i]  # 'i' refers to the (i+1)th spectrum in the MGF file input\n",
    "```\n",
    "\n",
    "Execute the following cell to save the results in an Excel file. For readability, each dataframe is saved in its own sheet."
   ]
  },
  {
   "cell_type": "code",
   "execution_count": 10,
   "metadata": {},
   "outputs": [],
   "source": [
    "home = str(Path.home())\n",
    "writer = pd.ExcelWriter(f\"{home}/Downloads/spectra_predictions.xlsx\", engine='xlsxwriter')\n",
    "\n",
    "for i, prediction_dataframe in enumerate(spectra_predictions):\n",
    "    prediction_dataframe.to_excel(writer, sheet_name=f'spectrum #{i+1}')\n",
    "writer.save()"
   ]
  },
  {
   "cell_type": "code",
   "execution_count": 12,
   "metadata": {},
   "outputs": [
    {
     "data": {
      "text/html": [
       "<div>\n",
       "<style scoped>\n",
       "    .dataframe tbody tr th:only-of-type {\n",
       "        vertical-align: middle;\n",
       "    }\n",
       "\n",
       "    .dataframe tbody tr th {\n",
       "        vertical-align: top;\n",
       "    }\n",
       "\n",
       "    .dataframe thead th {\n",
       "        text-align: right;\n",
       "    }\n",
       "</style>\n",
       "<table border=\"1\" class=\"dataframe\">\n",
       "  <thead>\n",
       "    <tr style=\"text-align: right;\">\n",
       "      <th></th>\n",
       "      <th>score</th>\n",
       "    </tr>\n",
       "    <tr>\n",
       "      <th>matches of spectrum #1</th>\n",
       "      <th></th>\n",
       "    </tr>\n",
       "  </thead>\n",
       "  <tbody>\n",
       "    <tr>\n",
       "      <th>CCMSLIB00005717626</th>\n",
       "      <td>NaN</td>\n",
       "    </tr>\n",
       "    <tr>\n",
       "      <th>CCMSLIB00005879264</th>\n",
       "      <td>NaN</td>\n",
       "    </tr>\n",
       "    <tr>\n",
       "      <th>CCMSLIB00004752950</th>\n",
       "      <td>0.193805</td>\n",
       "    </tr>\n",
       "    <tr>\n",
       "      <th>CCMSLIB00005466063</th>\n",
       "      <td>0.187714</td>\n",
       "    </tr>\n",
       "    <tr>\n",
       "      <th>CCMSLIB00000006847</th>\n",
       "      <td>0.184868</td>\n",
       "    </tr>\n",
       "    <tr>\n",
       "      <th>CCMSLIB00005467772</th>\n",
       "      <td>0.183380</td>\n",
       "    </tr>\n",
       "    <tr>\n",
       "      <th>CCMSLIB00005724675</th>\n",
       "      <td>0.181272</td>\n",
       "    </tr>\n",
       "    <tr>\n",
       "      <th>CCMSLIB00005723953</th>\n",
       "      <td>0.179240</td>\n",
       "    </tr>\n",
       "    <tr>\n",
       "      <th>CCMSLIB00001059640</th>\n",
       "      <td>0.174597</td>\n",
       "    </tr>\n",
       "    <tr>\n",
       "      <th>CCMSLIB00000072118</th>\n",
       "      <td>0.173829</td>\n",
       "    </tr>\n",
       "  </tbody>\n",
       "</table>\n",
       "</div>"
      ],
      "text/plain": [
       "                           score\n",
       "matches of spectrum #1          \n",
       "CCMSLIB00005717626           NaN\n",
       "CCMSLIB00005879264           NaN\n",
       "CCMSLIB00004752950      0.193805\n",
       "CCMSLIB00005466063      0.187714\n",
       "CCMSLIB00000006847      0.184868\n",
       "CCMSLIB00005467772      0.183380\n",
       "CCMSLIB00005724675      0.181272\n",
       "CCMSLIB00005723953      0.179240\n",
       "CCMSLIB00001059640      0.174597\n",
       "CCMSLIB00000072118      0.173829"
      ]
     },
     "execution_count": 12,
     "metadata": {},
     "output_type": "execute_result"
    }
   ],
   "source": [
    "spectra_predictions[0]"
   ]
  },
  {
   "cell_type": "markdown",
   "metadata": {
    "id": "fxZC5erYIjIq"
   },
   "source": [
    "____"
   ]
  }
 ],
 "metadata": {
  "colab": {
   "collapsed_sections": [],
   "name": "Spec2Vec predictions API documentation.ipynb",
   "provenance": []
  },
  "kernelspec": {
   "display_name": "Python 3",
   "language": "python",
   "name": "python3"
  },
  "language_info": {
   "codemirror_mode": {
    "name": "ipython",
    "version": 3
   },
   "file_extension": ".py",
   "mimetype": "text/x-python",
   "name": "python",
   "nbconvert_exporter": "python",
   "pygments_lexer": "ipython3",
   "version": "3.8.5"
  }
 },
 "nbformat": 4,
 "nbformat_minor": 1
}
