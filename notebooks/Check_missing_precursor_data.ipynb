{
 "cells": [
  {
   "cell_type": "code",
   "execution_count": 1,
   "metadata": {},
   "outputs": [
    {
     "name": "stdout",
     "output_type": "stream",
     "text": [
      "/Users/pierre/PycharmProjects/omigami\n"
     ]
    }
   ],
   "source": [
    "cd .."
   ]
  },
  {
   "cell_type": "code",
   "execution_count": 2,
   "metadata": {},
   "outputs": [],
   "source": [
    "from typing import Dict, List\n",
    "from urllib.request import urlopen\n",
    "\n",
    "from pathlib import Path\n",
    "import json\n",
    "import ijson\n",
    "\n",
    "from omigami import config\n",
    "from omigami.helper_classes.data_loader import DataLoader\n",
    "\n",
    "KEYS = config[\"gnps_json\"][\"necessary_keys\"]"
   ]
  },
  {
   "cell_type": "markdown",
   "metadata": {},
   "source": [
    "## Download ALL_GNPS.json and save in */test/assets*"
   ]
  },
  {
   "cell_type": "code",
   "execution_count": null,
   "metadata": {
    "scrolled": true
   },
   "outputs": [
    {
     "name": "stderr",
     "output_type": "stream",
     "text": [
      "INFO:omigami.helper_classes.data_loader:Loading data from <http.client.HTTPResponse object at 0x7f9c5c7b0e20>... This might take a while.\n"
     ]
    }
   ],
   "source": [
    "# # Download\n",
    "# uri = \"https://gnps-external.ucsd.edu/gnpslibrary/ALL_GNPS.json\"\n",
    "\n",
    "# dl = DataLoader()\n",
    "# results = dl.load_gnps_json(uri)\n",
    "\n",
    "# # Save in assets\n",
    "# base = Path('omigami/test/assets')\n",
    "# jsonpath = base / (\"ALL_GNPS.json\")\n",
    "# base.mkdir(exist_ok=True)\n",
    "# jsonpath.write_text(json.dumps(results))"
   ]
  },
  {
   "cell_type": "markdown",
   "metadata": {},
   "source": [
    "## Load ALL_GNPS.json from /test/assets"
   ]
  },
  {
   "cell_type": "code",
   "execution_count": 3,
   "metadata": {},
   "outputs": [],
   "source": [
    "f = open ('omigami/test/assets/ALL_GNPS.json', \"r\")\n",
    "results = json.loads(f.read())"
   ]
  },
  {
   "cell_type": "code",
   "execution_count": 4,
   "metadata": {},
   "outputs": [],
   "source": [
    "counter_precursor_key = 0\n",
    "counter_precursor_key = sum([1 for spectrum in results  if 'Precursor_MZ' in spectrum.keys()])"
   ]
  },
  {
   "cell_type": "code",
   "execution_count": 5,
   "metadata": {},
   "outputs": [
    {
     "name": "stdout",
     "output_type": "stream",
     "text": [
      "100.0% of spectra have the 'Precursor_MZ' key\n"
     ]
    }
   ],
   "source": [
    "print(f\"{(counter_precursor_key/len(results))*100}% of spectra have the 'Precursor_MZ' key\")"
   ]
  },
  {
   "cell_type": "code",
   "execution_count": 6,
   "metadata": {},
   "outputs": [],
   "source": [
    "counter_precursor_key_not_null = 0\n",
    "counter_precursor_key_not_null = sum([1 for spectrum in results  if 'Precursor_MZ' in spectrum.keys() and spectrum['Precursor_MZ'] != ''])"
   ]
  },
  {
   "cell_type": "code",
   "execution_count": 7,
   "metadata": {},
   "outputs": [
    {
     "name": "stdout",
     "output_type": "stream",
     "text": [
      "100.0% of spectra 'Precursor_MZ' keys are not null\n"
     ]
    }
   ],
   "source": [
    "print(f\"{(counter_precursor_key_not_null/len(results))*100}% \\\n",
    "of spectra 'Precursor_MZ' keys are not null\")"
   ]
  },
  {
   "cell_type": "code",
   "execution_count": null,
   "metadata": {},
   "outputs": [],
   "source": []
  }
 ],
 "metadata": {
  "kernelspec": {
   "display_name": "Python 3",
   "language": "python",
   "name": "python3"
  },
  "language_info": {
   "codemirror_mode": {
    "name": "ipython",
    "version": 3
   },
   "file_extension": ".py",
   "mimetype": "text/x-python",
   "name": "python",
   "nbconvert_exporter": "python",
   "pygments_lexer": "ipython3",
   "version": "3.8.5"
  }
 },
 "nbformat": 4,
 "nbformat_minor": 4
}
