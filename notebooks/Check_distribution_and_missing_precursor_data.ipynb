{
 "cells": [
  {
   "cell_type": "code",
   "execution_count": 1,
   "metadata": {},
   "outputs": [
    {
     "name": "stdout",
     "output_type": "stream",
     "text": [
      "/Users/pierre/PycharmProjects/spec2vec_mlops\n"
     ]
    }
   ],
   "source": [
    "cd .."
   ]
  },
  {
   "cell_type": "code",
   "execution_count": 11,
   "metadata": {},
   "outputs": [],
   "source": [
    "from typing import Dict, List\n",
    "from urllib.request import urlopen\n",
    "\n",
    "from pathlib import Path\n",
    "import json\n",
    "import ijson\n",
    "import seaborn as sns\n",
    "import logging\n",
    "\n",
    "from spec2vec_mlops import config\n",
    "from spec2vec_mlops.helper_classes.data_loader import DataLoader\n",
    "\n",
    "KEYS = config[\"gnps_json\"][\"necessary_keys\"]"
   ]
  },
  {
   "cell_type": "markdown",
   "metadata": {},
   "source": [
    "## Download ALL_GNPS.json and save in */test/assets*"
   ]
  },
  {
   "cell_type": "code",
   "execution_count": null,
   "metadata": {
    "scrolled": true
   },
   "outputs": [
    {
     "name": "stderr",
     "output_type": "stream",
     "text": [
      "INFO:spec2vec_mlops.helper_classes.data_loader:Loading data from <http.client.HTTPResponse object at 0x7f9c5c7b0e20>... This might take a while.\n"
     ]
    }
   ],
   "source": [
    "# # Download\n",
    "# uri = \"https://gnps-external.ucsd.edu/gnpslibrary/ALL_GNPS.json\"\n",
    "\n",
    "# dl = DataLoader()\n",
    "# results = dl.load_gnps_json(uri)\n",
    "\n",
    "# # Save in assets\n",
    "# base = Path('spec2vec_mlops/test/assets')\n",
    "# jsonpath = base / (\"ALL_GNPS.json\")\n",
    "# base.mkdir(exist_ok=True)\n",
    "# jsonpath.write_text(json.dumps(results))"
   ]
  },
  {
   "cell_type": "markdown",
   "metadata": {},
   "source": [
    "## Load ALL_GNPS.json from /test/assets"
   ]
  },
  {
   "cell_type": "code",
   "execution_count": 3,
   "metadata": {},
   "outputs": [],
   "source": [
    "f = open ('spec2vec_mlops/test/assets/ALL_GNPS.json', \"r\")\n",
    "results = json.loads(f.read())"
   ]
  },
  {
   "cell_type": "markdown",
   "metadata": {},
   "source": [
    "## Assess Distribution of Precursor_MZ"
   ]
  },
  {
   "cell_type": "code",
   "execution_count": 6,
   "metadata": {},
   "outputs": [],
   "source": [
    "all_precursor_mz = [float(spectrum['Precursor_MZ']) for spectrum in results]"
   ]
  },
  {
   "cell_type": "code",
   "execution_count": 12,
   "metadata": {},
   "outputs": [],
   "source": [
    "logging.getLogger('matplotlib.font_manager').disabled = True"
   ]
  },
  {
   "cell_type": "code",
   "execution_count": 16,
   "metadata": {},
   "outputs": [
    {
     "name": "stdout",
     "output_type": "stream",
     "text": [
      "DescribeResult(nobs=439977, minmax=(0.0, 3355.6), mean=476.2971291428871, variance=58497.92598314893, skewness=0.9474345437094656, kurtosis=1.1198738599132074)\n",
      "241.8631700494458\n"
     ]
    }
   ],
   "source": [
    "import scipy.stats\n",
    "import numpy as np\n",
    "print(scipy.stats.describe(all_precursor_mz))\n",
    "print(np.std(all_precursor_mz))"
   ]
  },
  {
   "cell_type": "code",
   "execution_count": 13,
   "metadata": {
    "scrolled": true
   },
   "outputs": [
    {
     "data": {
      "text/plain": [
       "<AxesSubplot:ylabel='Count'>"
      ]
     },
     "execution_count": 13,
     "metadata": {},
     "output_type": "execute_result"
    },
    {
     "data": {
      "image/png": "[encoded data removed]",
      "text/plain": [
       "<Figure size 432x288 with 1 Axes>"
      ]
     },
     "metadata": {
      "needs_background": "light"
     },
     "output_type": "display_data"
    }
   ],
   "source": [
    "sns.histplot(all_precursor_mz)"
   ]
  },
  {
   "cell_type": "markdown",
   "metadata": {},
   "source": [
    "___"
   ]
  },
  {
   "cell_type": "markdown",
   "metadata": {},
   "source": [
    "## Assess missing Precursor_MZ"
   ]
  },
  {
   "cell_type": "code",
   "execution_count": 4,
   "metadata": {},
   "outputs": [],
   "source": [
    "counter_precursor_key = 0\n",
    "counter_precursor_key = sum([1 for spectrum in results if 'Precursor_MZ' in spectrum.keys()])"
   ]
  },
  {
   "cell_type": "code",
   "execution_count": 5,
   "metadata": {},
   "outputs": [
    {
     "name": "stdout",
     "output_type": "stream",
     "text": [
      "100.0% of spectra have the 'Precursor_MZ' key\n"
     ]
    }
   ],
   "source": [
    "print(f\"{(counter_precursor_key/len(results))*100}% of spectra have the 'Precursor_MZ' key\")"
   ]
  },
  {
   "cell_type": "code",
   "execution_count": 6,
   "metadata": {},
   "outputs": [],
   "source": [
    "counter_precursor_key_not_null = 0\n",
    "counter_precursor_key_not_null = sum([1 for spectrum in results  if 'Precursor_MZ' in spectrum.keys() and spectrum['Precursor_MZ'] != ''])"
   ]
  },
  {
   "cell_type": "code",
   "execution_count": 7,
   "metadata": {},
   "outputs": [
    {
     "name": "stdout",
     "output_type": "stream",
     "text": [
      "100.0% of spectra 'Precursor_MZ' keys are not null\n"
     ]
    }
   ],
   "source": [
    "print(f\"{(counter_precursor_key_not_null/len(results))*100}% \\\n",
    "of spectra 'Precursor_MZ' keys are not null\")"
   ]
  },
  {
   "cell_type": "code",
   "execution_count": null,
   "metadata": {},
   "outputs": [],
   "source": []
  }
 ],
 "metadata": {
  "kernelspec": {
   "display_name": "Python 3",
   "language": "python",
   "name": "python3"
  },
  "language_info": {
   "codemirror_mode": {
    "name": "ipython",
    "version": 3
   },
   "file_extension": ".py",
   "mimetype": "text/x-python",
   "name": "python",
   "nbconvert_exporter": "python",
   "pygments_lexer": "ipython3",
   "version": "3.7.10"
  }
 },
 "nbformat": 4,
 "nbformat_minor": 4
}
