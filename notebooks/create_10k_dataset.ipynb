{
 "cells": [
  {
   "cell_type": "markdown",
   "id": "utility-punch",
   "metadata": {},
   "source": [
    "## This noteboks creates a 10k spectra dataset from the full GNPS dataset"
   ]
  },
  {
   "cell_type": "code",
   "execution_count": 1,
   "id": "increased-handbook",
   "metadata": {},
   "outputs": [],
   "source": [
    "import json"
   ]
  },
  {
   "cell_type": "markdown",
   "id": "perfect-consumption",
   "metadata": {},
   "source": [
    "##### It assumes that you have the GNPS dataset downloaded locally"
   ]
  },
  {
   "cell_type": "code",
   "execution_count": 2,
   "id": "bibliographic-charlotte",
   "metadata": {},
   "outputs": [],
   "source": [
    "full_dataset_path = \"/Users/dianacarvalho/Desktop/full_GNPS.json\""
   ]
  },
  {
   "cell_type": "code",
   "execution_count": 3,
   "id": "circular-purchase",
   "metadata": {},
   "outputs": [],
   "source": [
    "with open(full_dataset_path, \"r\") as f:\n",
    "    all_spectra = json.loads(f.read())\n",
    "spectra_10k = all_spectra[:10000]"
   ]
  },
  {
   "cell_type": "code",
   "execution_count": 4,
   "id": "requested-temple",
   "metadata": {},
   "outputs": [],
   "source": [
    "spectra_10k_path = \"/Users/dianacarvalho/Desktop/10k_spectra_GNPS.json\""
   ]
  },
  {
   "cell_type": "code",
   "execution_count": 5,
   "id": "facial-speaking",
   "metadata": {},
   "outputs": [],
   "source": [
    "with open(spectra_10k_path, \"w\") as f:\n",
    "    json.dump(spectra_10k, f)"
   ]
  },
  {
   "cell_type": "code",
   "execution_count": null,
   "id": "electric-story",
   "metadata": {},
   "outputs": [],
   "source": []
  }
 ],
 "metadata": {
  "kernelspec": {
   "display_name": "Python 3",
   "language": "python",
   "name": "python3"
  },
  "language_info": {
   "codemirror_mode": {
    "name": "ipython",
    "version": 3
   },
   "file_extension": ".py",
   "mimetype": "text/x-python",
   "name": "python",
   "nbconvert_exporter": "python",
   "pygments_lexer": "ipython3",
   "version": "3.7.10"
  }
 },
 "nbformat": 4,
 "nbformat_minor": 5
}
