{
 "cells": [
  {
   "cell_type": "code",
   "execution_count": 1,
   "metadata": {},
   "outputs": [],
   "source": [
    "import requests\n",
    "import json"
   ]
  },
  {
   "cell_type": "markdown",
   "metadata": {},
   "source": [
    "# How to use the Spec2vec API v1\n",
    "\n",
    "### 1) The Seldon API predictions endpoint\n",
    "The API endpoint is available by querying the following address:  \n",
    "https://mlops.datarevenue.com/seldon/seldon/spec2vec/api/v0.1/predictions\n",
    "\n",
    "The Swagger API endpoint is available here (however predictions don't work yet) :  \n",
    "https://mlops.datarevenue.com/seldon/seldon/spec2vec/api/v0.1/doc/  "
   ]
  },
  {
   "cell_type": "markdown",
   "metadata": {},
   "source": [
    "### 2) The spectra data\n",
    "\n",
    "Here is a json of an example spectra data :\n",
    "```\n",
    "{\n",
    "   \"data\": {\n",
    "      \"ndarray\": {\n",
    "         \"parameters\":\n",
    "             {\n",
    "                 \"n_best_spectra\": 10,\n",
    "             },\n",
    "         \"data\":\n",
    "             [\n",
    "                 {\"peaks_json\": \"[[289.286377,8068.000000],\\\n",
    "                                 [295.545288,22507.000000]]\", \n",
    "                 \"Precursor_MZ\": \"900\"},\n",
    "                 {\"peaks_json\": \"[[289.286377,8068.000000],\\\n",
    "                                 [295.545288,22507.000000]]\", \n",
    "                 \"Precursor_MZ\": \"800\"}\n",
    "             ]\n",
    "      }\n",
    "   }\n",
    "}\n",
    "```\n",
    "\n",
    "Please note that `peaks_json` and `Precursor_MZ` are the only mandatory fields.  \n",
    "The `n_best_spectra` parameter controls the number of spectra returned per set of peaks (10 by default)."
   ]
  },
  {
   "cell_type": "markdown",
   "metadata": {},
   "source": [
    "### 3) The `requests` library\n",
    "\n",
    "The `requests` library is used to query the predictions API, like so :\n",
    "\n",
    "```python\n",
    "requests.post(url=<API_address>, json=<spectra_data>)\n",
    "```\n",
    "\n",
    "For each set of peaks provided, the predicted spectra are sorted according to their prediction score (best is first).   \n",
    "The following informations about the predicted spectra are provided :\n",
    "- `cosine_score`, the cosine score between peaks input and the predicted spectrum\n",
    "- `match_id`, the ID of the match\n",
    "- `peaks_input`, the set of peaks input. 0 refers to the first set of peaks."
   ]
  },
  {
   "cell_type": "code",
   "execution_count": 2,
   "metadata": {},
   "outputs": [],
   "source": [
    "url = \"https://mlops.datarevenue.com/seldon/seldon/spec2vec/api/v0.1/predictions\""
   ]
  },
  {
   "cell_type": "code",
   "execution_count": 3,
   "metadata": {},
   "outputs": [],
   "source": [
    "payload = {\n",
    "   \"data\": {\n",
    "      \"ndarray\": {\n",
    "         \"parameters\":\n",
    "             {\n",
    "                 \"n_best_spectra\": 10,\n",
    "             },\n",
    "         \"data\":\n",
    "             [\n",
    "                 {\"peaks_json\": \"[[289.286377,8068.000000],\\\n",
    "                                 [295.545288,22507.000000]]\", \n",
    "                 \"Precursor_MZ\": \"900\"},\n",
    "                 {\"peaks_json\": \"[[289.286377,8068.000000],\\\n",
    "                                 [295.545288,22507.000000]]\", \n",
    "                 \"Precursor_MZ\": \"800\"}\n",
    "             ]\n",
    "      }\n",
    "   }\n",
    "}"
   ]
  },
  {
   "cell_type": "code",
   "execution_count": 4,
   "metadata": {
    "scrolled": true
   },
   "outputs": [
    {
     "data": {
      "text/plain": [
       "[[{'cosine_score': 0.14053996065832047,\n",
       "   'match_id': 'CCMSLIB00000072199',\n",
       "   'peaks_input': 0},\n",
       "  {'cosine_score': 0.12324274093673433,\n",
       "   'match_id': 'CCMSLIB00000072279',\n",
       "   'peaks_input': 0},\n",
       "  {'cosine_score': 0.11293067011730379,\n",
       "   'match_id': 'CCMSLIB00000072209',\n",
       "   'peaks_input': 0},\n",
       "  {'cosine_score': 0.10722157253713638,\n",
       "   'match_id': 'CCMSLIB00000001667',\n",
       "   'peaks_input': 0},\n",
       "  {'cosine_score': 0.10171022664079839,\n",
       "   'match_id': 'CCMSLIB00000072048',\n",
       "   'peaks_input': 0},\n",
       "  {'cosine_score': 0.08091117725124594,\n",
       "   'match_id': 'CCMSLIB00000071743',\n",
       "   'peaks_input': 0},\n",
       "  {'cosine_score': 0.07892400083265257,\n",
       "   'match_id': 'CCMSLIB00000071753',\n",
       "   'peaks_input': 0},\n",
       "  {'cosine_score': 0.07618465178088103,\n",
       "   'match_id': 'CCMSLIB00000001547',\n",
       "   'peaks_input': 0},\n",
       "  {'cosine_score': 0.07379345886531045,\n",
       "   'match_id': 'CCMSLIB00000006810',\n",
       "   'peaks_input': 0},\n",
       "  {'cosine_score': 0.07324421716073613,\n",
       "   'match_id': 'CCMSLIB00000001647',\n",
       "   'peaks_input': 0}],\n",
       " [{'cosine_score': 0.14053996065832047,\n",
       "   'match_id': 'CCMSLIB00000072199',\n",
       "   'peaks_input': 1},\n",
       "  {'cosine_score': 0.12324274093673433,\n",
       "   'match_id': 'CCMSLIB00000072279',\n",
       "   'peaks_input': 1},\n",
       "  {'cosine_score': 0.11293067011730379,\n",
       "   'match_id': 'CCMSLIB00000072209',\n",
       "   'peaks_input': 1},\n",
       "  {'cosine_score': 0.10722157253713638,\n",
       "   'match_id': 'CCMSLIB00000001667',\n",
       "   'peaks_input': 1},\n",
       "  {'cosine_score': 0.10171022664079839,\n",
       "   'match_id': 'CCMSLIB00000072048',\n",
       "   'peaks_input': 1},\n",
       "  {'cosine_score': 0.08091117725124594,\n",
       "   'match_id': 'CCMSLIB00000071743',\n",
       "   'peaks_input': 1},\n",
       "  {'cosine_score': 0.07892400083265257,\n",
       "   'match_id': 'CCMSLIB00000071753',\n",
       "   'peaks_input': 1},\n",
       "  {'cosine_score': 0.07618465178088103,\n",
       "   'match_id': 'CCMSLIB00000001547',\n",
       "   'peaks_input': 1},\n",
       "  {'cosine_score': 0.07379345886531045,\n",
       "   'match_id': 'CCMSLIB00000006810',\n",
       "   'peaks_input': 1},\n",
       "  {'cosine_score': 0.07324421716073613,\n",
       "   'match_id': 'CCMSLIB00000001647',\n",
       "   'peaks_input': 1}]]"
      ]
     },
     "metadata": {},
     "output_type": "display_data"
    }
   ],
   "source": [
    "r = requests.post(url, json=payload)\n",
    "response = json.loads(r.text)\n",
    "\n",
    "predicted_spectra = response['data']['ndarray']\n",
    "display(predicted_spectra)"
   ]
  },
  {
   "cell_type": "code",
   "execution_count": null,
   "metadata": {},
   "outputs": [],
   "source": []
  }
 ],
 "metadata": {
  "kernelspec": {
   "display_name": "Python 3",
   "language": "python",
   "name": "python3"
  },
  "language_info": {
   "codemirror_mode": {
    "name": "ipython",
    "version": 3
   },
   "file_extension": ".py",
   "mimetype": "text/x-python",
   "name": "python",
   "nbconvert_exporter": "python",
   "pygments_lexer": "ipython3",
   "version": "3.8.5"
  }
 },
 "nbformat": 4,
 "nbformat_minor": 4
}
