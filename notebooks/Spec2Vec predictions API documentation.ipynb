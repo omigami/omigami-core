{
 "cells": [
  {
   "cell_type": "code",
   "execution_count": 1,
   "metadata": {},
   "outputs": [],
   "source": [
    "import requests\n",
    "import json"
   ]
  },
  {
   "cell_type": "markdown",
   "metadata": {},
   "source": [
    "# How to use the Spec2vec API v1\n",
    "\n",
    "### 1) The Seldon API predictions endpoint\n",
    "The API endpoint is available by querying the following address:  \n",
    "https://mlops.datarevenue.com/seldon/seldon/spec2vec/api/v0.1/predictions\n",
    "\n",
    "The Swagger API endpoint is available here (however predictions don't work yet) :  \n",
    "https://mlops.datarevenue.com/seldon/seldon/spec2vec/api/v0.1/doc/  "
   ]
  },
  {
   "cell_type": "markdown",
   "metadata": {},
   "source": [
    "### 2) The spectra data\n",
    "\n",
    "Here is a json of an example spectra data :\n",
    "```\n",
    "{\n",
    "   \"data\": {\n",
    "      \"ndarray\": {\n",
    "         \"parameters\":\n",
    "             {\n",
    "                 \"n_best_spectra\": 10,\n",
    "             },\n",
    "         \"data\":\n",
    "             [\n",
    "                 {\"peaks_json\": \"[[289.286377,8068.000000],[295.545288,22507.000000]]\", \n",
    "                  \"Precursor_MZ\": \"900\"},\n",
    "                 {\"peaks_json\": \"[[289.286377,8068.000000],[295.545288,22507.000000]]\", \n",
    "                  \"Precursor_MZ\": \"800\"}\n",
    "             ]\n",
    "      }\n",
    "   }\n",
    "}\n",
    "```\n",
    "\n",
    "Please note the following :\n",
    "- At most 5 sets of `peaks_json` can be provided at once. \n",
    "- At most 20 peaks can be provided in a set of `peaks_json`.\n",
    "- `peaks_json` and `Precursor_MZ` are the only mandatory fields.  \n",
    "- `Precursor_MZ` can be a string of int or a string of float. i.e. \"800\" or \"800.00\"\n",
    "- The optional `n_best_spectra` parameter controls the number of predicted spectra returned per set of peaks (10 by default)."
   ]
  },
  {
   "cell_type": "markdown",
   "metadata": {},
   "source": [
    "### 3) The `requests` library\n",
    "\n",
    "The `requests` library is used to query the predictions API, like so :\n",
    "\n",
    "```python\n",
    "requests.post(url=<API_address>, json=<spectra_data>)\n",
    "```\n",
    "\n",
    "For each set of peaks provided, the predicted spectra are sorted according to their prediction score (best is first).   \n",
    "The following informations about the predicted spectra are provided :\n",
    "- `cosine_score`, the cosine score between peaks input and the predicted spectrum\n",
    "- `match_id`, the ID of the match\n",
    "- `peaks_input`, the set of peaks input. 0 refers to the first set of peaks."
   ]
  },
  {
   "cell_type": "markdown",
   "metadata": {},
   "source": [
    "### 4) Build the payload and predict spectra from peaks intensities"
   ]
  },
  {
   "cell_type": "code",
   "execution_count": 9,
   "metadata": {},
   "outputs": [],
   "source": [
    "# lists of peaks intensities (List[List[float]])\n",
    "peaks_set1 = [[289.286377,8068.000000],[295.545288,22507.000000]]\n",
    "peaks_set2 = [[289.286377,8068.000000],[295.545288,22507.000000]]"
   ]
  },
  {
   "cell_type": "code",
   "execution_count": 10,
   "metadata": {},
   "outputs": [],
   "source": [
    "# lists of Precursor_MZ (can be int or float)\n",
    "precursor_mz_set1 = 800\n",
    "precursor_mz_set2 = 900.00"
   ]
  },
  {
   "cell_type": "code",
   "execution_count": 11,
   "metadata": {},
   "outputs": [],
   "source": [
    "# convert to string\n",
    "peaks_json1 = str(peaks_set1)\n",
    "peaks_json2 = str(peaks_set2)\n",
    "\n",
    "precursor_mz_json1 = str(precursor_mz_set1)\n",
    "precursor_mz_json2 = str(precursor_mz_set2)"
   ]
  },
  {
   "cell_type": "code",
   "execution_count": 12,
   "metadata": {},
   "outputs": [],
   "source": [
    "# build the payload\n",
    "payload = {\n",
    "   \"data\": {\n",
    "      \"ndarray\": {\n",
    "         \"parameters\":\n",
    "             {\n",
    "                 \"n_best_spectra\": 10,\n",
    "             },\n",
    "         \"data\":\n",
    "             [\n",
    "                 {\"peaks_json\": peaks_json1, \"Precursor_MZ\": precursor_mz_json1},\n",
    "                 {\"peaks_json\": peaks_json2, \"Precursor_MZ\": precursor_mz_json2}\n",
    "             ]\n",
    "      }\n",
    "   }\n",
    "}"
   ]
  },
  {
   "cell_type": "code",
   "execution_count": 13,
   "metadata": {},
   "outputs": [],
   "source": [
    "# url of the API endpoint\n",
    "url = \"https://mlops.datarevenue.com/seldon/seldon/spec2vec/api/v0.1/predictions\""
   ]
  },
  {
   "cell_type": "markdown",
   "metadata": {},
   "source": [
    "____"
   ]
  },
  {
   "cell_type": "code",
   "execution_count": null,
   "metadata": {},
   "outputs": [],
   "source": [
    "# Query of the prediction API\n",
    "r = requests.post(url, json=payload)\n",
    "\n",
    "# formatting of the results\n",
    "response = json.loads(r.text)\n",
    "predicted_spectra = response['data']['ndarray']"
   ]
  },
  {
   "cell_type": "code",
   "execution_count": 14,
   "metadata": {
    "scrolled": true
   },
   "outputs": [
    {
     "data": {
      "text/plain": [
       "[[{'cosine_score': 0.16716646078873823,\n",
       "   'match_id': 'CCMSLIB00000071753',\n",
       "   'peaks_input': 0},\n",
       "  {'cosine_score': 0.1570428908653479,\n",
       "   'match_id': 'CCMSLIB00000006828',\n",
       "   'peaks_input': 0},\n",
       "  {'cosine_score': 0.1483504382838249,\n",
       "   'match_id': 'CCMSLIB00000001808',\n",
       "   'peaks_input': 0},\n",
       "  {'cosine_score': 0.1329488722940013,\n",
       "   'match_id': 'CCMSLIB00000001547',\n",
       "   'peaks_input': 0},\n",
       "  {'cosine_score': 0.11810561270522776,\n",
       "   'match_id': 'CCMSLIB00000001758',\n",
       "   'peaks_input': 0},\n",
       "  {'cosine_score': 0.09995333269537958,\n",
       "   'match_id': 'CCMSLIB00000072048',\n",
       "   'peaks_input': 0},\n",
       "  {'cosine_score': 0.09422801562794712,\n",
       "   'match_id': 'CCMSLIB00000007102',\n",
       "   'peaks_input': 0},\n",
       "  {'cosine_score': 0.0894704795809798,\n",
       "   'match_id': 'CCMSLIB00000072209',\n",
       "   'peaks_input': 0},\n",
       "  {'cosine_score': 0.08070774924793736,\n",
       "   'match_id': 'CCMSLIB00000001708',\n",
       "   'peaks_input': 0},\n",
       "  {'cosine_score': 0.08043057529791894,\n",
       "   'match_id': 'CCMSLIB00000006868',\n",
       "   'peaks_input': 0}],\n",
       " [{'cosine_score': 0.16716646078873823,\n",
       "   'match_id': 'CCMSLIB00000071753',\n",
       "   'peaks_input': 1},\n",
       "  {'cosine_score': 0.1570428908653479,\n",
       "   'match_id': 'CCMSLIB00000006828',\n",
       "   'peaks_input': 1},\n",
       "  {'cosine_score': 0.1483504382838249,\n",
       "   'match_id': 'CCMSLIB00000001808',\n",
       "   'peaks_input': 1},\n",
       "  {'cosine_score': 0.1329488722940013,\n",
       "   'match_id': 'CCMSLIB00000001547',\n",
       "   'peaks_input': 1},\n",
       "  {'cosine_score': 0.11810561270522776,\n",
       "   'match_id': 'CCMSLIB00000001758',\n",
       "   'peaks_input': 1},\n",
       "  {'cosine_score': 0.09995333269537958,\n",
       "   'match_id': 'CCMSLIB00000072048',\n",
       "   'peaks_input': 1},\n",
       "  {'cosine_score': 0.09422801562794712,\n",
       "   'match_id': 'CCMSLIB00000007102',\n",
       "   'peaks_input': 1},\n",
       "  {'cosine_score': 0.0894704795809798,\n",
       "   'match_id': 'CCMSLIB00000072209',\n",
       "   'peaks_input': 1},\n",
       "  {'cosine_score': 0.08070774924793736,\n",
       "   'match_id': 'CCMSLIB00000001708',\n",
       "   'peaks_input': 1},\n",
       "  {'cosine_score': 0.08043057529791894,\n",
       "   'match_id': 'CCMSLIB00000006868',\n",
       "   'peaks_input': 1}]]"
      ]
     },
     "metadata": {},
     "output_type": "display_data"
    }
   ],
   "source": [
    "display(predicted_spectra)"
   ]
  },
  {
   "cell_type": "code",
   "execution_count": null,
   "metadata": {},
   "outputs": [],
   "source": []
  }
 ],
 "metadata": {
  "kernelspec": {
   "display_name": "Python 3",
   "language": "python",
   "name": "python3"
  },
  "language_info": {
   "codemirror_mode": {
    "name": "ipython",
    "version": 3
   },
   "file_extension": ".py",
   "mimetype": "text/x-python",
   "name": "python",
   "nbconvert_exporter": "python",
   "pygments_lexer": "ipython3",
   "version": "3.8.5"
  }
 },
 "nbformat": 4,
 "nbformat_minor": 4
}
