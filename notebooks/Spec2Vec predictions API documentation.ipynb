{
 "cells": [
  {
   "cell_type": "code",
   "execution_count": 1,
   "metadata": {},
   "outputs": [],
   "source": [
    "import requests\n",
    "import json"
   ]
  },
  {
   "cell_type": "markdown",
   "metadata": {},
   "source": [
    "# How to use the Spec2vec API v1\n",
    "\n",
    "### 1) The Seldon API predictions endpoint\n",
    "The API endpoint is available by querying the following address:  \n",
    "https://mlops.datarevenue.com/seldon/seldon/spec2vec/api/v0.1/predictions\n",
    "\n",
    "The Swagger API endpoint is available here (however predictions don't work yet) :  \n",
    "https://mlops.datarevenue.com/seldon/seldon/spec2vec/api/v0.1/doc/  "
   ]
  },
  {
   "cell_type": "markdown",
   "metadata": {},
   "source": [
    "### 2) The spectra data\n",
    "\n",
    "Here is a json of an example spectra data :\n",
    "```\n",
    "{\n",
    "   \"data\": {\n",
    "      \"ndarray\": {\n",
    "         \"parameters\":\n",
    "             {\n",
    "                 \"n_best_spectra\": 10,\n",
    "             },\n",
    "         \"data\":\n",
    "             [\n",
    "                 {\"peaks_json\": \"[[289.286377,8068.000000],\\\n",
    "                                 [295.545288,22507.000000]]\", \n",
    "                 \"Precursor_MZ\": \"900\"},\n",
    "                 {\"peaks_json\": \"[[289.286377,8068.000000],\\\n",
    "                                 [295.545288,22507.000000]]\", \n",
    "                 \"Precursor_MZ\": \"800\"}\n",
    "             ]\n",
    "      }\n",
    "   }\n",
    "}\n",
    "```\n",
    "\n",
    "Please note that `peaks_json` and `Precursor_MZ` are the only mandatory fields.  \n",
    "The `n_best_spectra` parameter controls the number of spectra returned per set of peaks (10 by default)."
   ]
  },
  {
   "cell_type": "markdown",
   "metadata": {},
   "source": [
    "### 3) The `requests` library\n",
    "\n",
    "The `requests` library is used to query the predictions API, like so :\n",
    "\n",
    "```python\n",
    "requests.post(url=<API_address>, json=<spectra_data>)\n",
    "```\n",
    "\n",
    "For each set of peaks provided, the predicted spectra are sorted according to their prediction score (best is first).   \n",
    "The following informations about the predicted spectra are provided :\n",
    "- `match_id`, the ID of the match\n",
    "- `score`, the cosine score between peaks input and the predicted spectrum\n",
    "- `peaks_input`, the set of peaks input. 0 refers to the first set of peaks."
   ]
  },
  {
   "cell_type": "code",
   "execution_count": 5,
   "metadata": {},
   "outputs": [],
   "source": [
    "url = \"https://mlops.datarevenue.com/seldon/seldon/spec2vec/api/v0.1/predictions\""
   ]
  },
  {
   "cell_type": "code",
   "execution_count": 17,
   "metadata": {},
   "outputs": [],
   "source": [
    "payload = {\n",
    "   \"data\": {\n",
    "      \"ndarray\": {\n",
    "         \"parameters\":\n",
    "             {\n",
    "                 \"n_best_spectra\": 10,\n",
    "             },\n",
    "         \"data\":\n",
    "             [\n",
    "                 {\"peaks_json\": \"[[289.286377,8068.000000],\\\n",
    "                                 [295.545288,22507.000000]]\", \n",
    "                 \"Precursor_MZ\": \"900\"},\n",
    "                 {\"peaks_json\": \"[[289.286377,8068.000000],\\\n",
    "                                 [295.545288,22507.000000]]\", \n",
    "                 \"Precursor_MZ\": \"800\"}\n",
    "             ]\n",
    "      }\n",
    "   }\n",
    "}"
   ]
  },
  {
   "cell_type": "code",
   "execution_count": 15,
   "metadata": {
    "scrolled": true
   },
   "outputs": [
    {
     "data": {
      "text/plain": [
       "[[{'best_match_id': 'CCMSLIB00000001788',\n",
       "   'score': 0.11978548194570098,\n",
       "   'spectrum_number': 0},\n",
       "  {'best_match_id': 'CCMSLIB00000001768',\n",
       "   'score': 0.1172876661513218,\n",
       "   'spectrum_number': 0},\n",
       "  {'best_match_id': 'CCMSLIB00000001597',\n",
       "   'score': 0.11728040068527806,\n",
       "   'spectrum_number': 0},\n",
       "  {'best_match_id': 'CCMSLIB00000072199',\n",
       "   'score': 0.1110106031287638,\n",
       "   'spectrum_number': 0},\n",
       "  {'best_match_id': 'CCMSLIB00000006857',\n",
       "   'score': 0.1043008013359626,\n",
       "   'spectrum_number': 0},\n",
       "  {'best_match_id': 'CCMSLIB00000001547',\n",
       "   'score': 0.10079531735696028,\n",
       "   'spectrum_number': 0},\n",
       "  {'best_match_id': 'CCMSLIB00000071743',\n",
       "   'score': 0.09844517014662758,\n",
       "   'spectrum_number': 0},\n",
       "  {'best_match_id': 'CCMSLIB00000068241',\n",
       "   'score': 0.09266181501820026,\n",
       "   'spectrum_number': 0},\n",
       "  {'best_match_id': 'CCMSLIB00000001778',\n",
       "   'score': 0.08902967301404274,\n",
       "   'spectrum_number': 0},\n",
       "  {'best_match_id': 'CCMSLIB00000072038',\n",
       "   'score': 0.0849816305356824,\n",
       "   'spectrum_number': 0}],\n",
       " [{'best_match_id': 'CCMSLIB00000001788',\n",
       "   'score': 0.11978548194570098,\n",
       "   'spectrum_number': 1},\n",
       "  {'best_match_id': 'CCMSLIB00000001768',\n",
       "   'score': 0.1172876661513218,\n",
       "   'spectrum_number': 1},\n",
       "  {'best_match_id': 'CCMSLIB00000001597',\n",
       "   'score': 0.11728040068527806,\n",
       "   'spectrum_number': 1},\n",
       "  {'best_match_id': 'CCMSLIB00000072199',\n",
       "   'score': 0.1110106031287638,\n",
       "   'spectrum_number': 1},\n",
       "  {'best_match_id': 'CCMSLIB00000006857',\n",
       "   'score': 0.1043008013359626,\n",
       "   'spectrum_number': 1},\n",
       "  {'best_match_id': 'CCMSLIB00000001547',\n",
       "   'score': 0.10079531735696028,\n",
       "   'spectrum_number': 1},\n",
       "  {'best_match_id': 'CCMSLIB00000071743',\n",
       "   'score': 0.09844517014662758,\n",
       "   'spectrum_number': 1},\n",
       "  {'best_match_id': 'CCMSLIB00000068241',\n",
       "   'score': 0.09266181501820026,\n",
       "   'spectrum_number': 1},\n",
       "  {'best_match_id': 'CCMSLIB00000001778',\n",
       "   'score': 0.08902967301404274,\n",
       "   'spectrum_number': 1},\n",
       "  {'best_match_id': 'CCMSLIB00000072038',\n",
       "   'score': 0.0849816305356824,\n",
       "   'spectrum_number': 1}]]"
      ]
     },
     "metadata": {},
     "output_type": "display_data"
    }
   ],
   "source": [
    "r = requests.post(url, json=payload)\n",
    "response = json.loads(r.text)\n",
    "\n",
    "predicted_spectra = response['data']['ndarray']\n",
    "display(predicted_spectra)"
   ]
  }
 ],
 "metadata": {
  "kernelspec": {
   "display_name": "Python 3",
   "language": "python",
   "name": "python3"
  },
  "language_info": {
   "codemirror_mode": {
    "name": "ipython",
    "version": 3
   },
   "file_extension": ".py",
   "mimetype": "text/x-python",
   "name": "python",
   "nbconvert_exporter": "python",
   "pygments_lexer": "ipython3",
   "version": "3.8.5"
  }
 },
 "nbformat": 4,
 "nbformat_minor": 4
}
