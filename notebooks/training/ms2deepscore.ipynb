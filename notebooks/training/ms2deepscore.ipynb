{
 "cells": [
  {
   "cell_type": "markdown",
   "id": "97d70d02",
   "metadata": {},
   "source": [
    "# Run MS2DeepScore Training Flow Locally\n",
    "\n",
    "This notebook shows how MS2DeepScore training flow can be run locally. Output is trained model path."
   ]
  },
  {
   "cell_type": "markdown",
   "id": "767c2669",
   "metadata": {},
   "source": [
    "## Imports"
   ]
  },
  {
   "cell_type": "code",
   "execution_count": 1,
   "id": "2aad6d75",
   "metadata": {},
   "outputs": [],
   "source": [
    "from omigami.spectra_matching.ms2deepscore.factory import MS2DeepScoreFlowFactory\n",
    "import mlflow"
   ]
  },
  {
   "cell_type": "markdown",
   "id": "18e4a986",
   "metadata": {
    "tags": []
   },
   "source": [
    "## Build Training Flow\n",
    "\n",
    "You can adjust following parameters of your choice:\n",
    "- `flow-name`: Flow name\n",
    "- `fingerprint_n_bits`: MS2DeepScore model parameter\n",
    "- `scores_decimals`: MS2DeepScore model parameter\n",
    "- `spectrum_binner_n_bins`: MS2DeepScore model parameter\n",
    "- `epochs`: MS2DeepScore model parameter\n",
    "- `dataset_id`: dataset to train Spec2Vec model on, will download the data from a particular URL. Available options are:\n",
    "  - `small`: data from https://raw.githubusercontent.com/MLOps-architecture/share/main/test_data/SMALL_GNPS.json. This data is not up-to-date with GNPS.\n",
    "  - `small_500`: data from https://raw.githubusercontent.com/MLOps-architecture/share/main/test_data/SMALL_GNPS_500_spectra.json. This data is not up-to-date with GNPS.\n",
    "  - `10k`: This dataset has no url, but it uses first 10k spectra from GNPS. This data is not up-to-date with GNPS.\n",
    "  - `complete`: data from https://gnps-external.ucsd.edu/gnpslibrary/ALL_GNPS.json. This will always be up-to-datw with GNPS.\n",
    "- `ion_mode`: `\"positive\"` or `\"negative\"`\n",
    "- `train_ratio`: percentage of dataset to use in training the model\n",
    "- `validation_ratio`: percentage of dataset to use in validating the model\n",
    "- `test_ratio`: percentage of dataset to use in testing the model\n",
    "\n",
    "Rest of the parameters can be stay as it is, as they are related to tools used in developing the flow."
   ]
  },
  {
   "cell_type": "code",
   "execution_count": 2,
   "id": "e3390b7d-2741-45d8-905c-56c785dd74cc",
   "metadata": {},
   "outputs": [],
   "source": [
    "from pathlib import Path\n",
    "storage_root = Path.cwd() / \"results\""
   ]
  },
  {
   "cell_type": "code",
   "execution_count": 3,
   "id": "09ef3aea",
   "metadata": {},
   "outputs": [
    {
     "name": "stderr",
     "output_type": "stream",
     "text": [
      "/Users/czanella/miniconda-r/envs/omigami/lib/python3.7/contextlib.py:119: UserWarning: Tasks were created but not added to the flow: {<Task: Task>}. This can occur when `Task` classes, including `Parameters`, are instantiated inside a `with flow:` block but not added to the flow either explicitly or as the input to another task. For more information, see https://docs.prefect.io/core/advanced_tutorials/task-guide.html#adding-tasks-to-flows.\n",
      "  next(self.gen)\n"
     ]
    },
    {
     "data": {
      "text/plain": [
       "<Flow: name=\"ms2deepscore\">"
      ]
     },
     "execution_count": 3,
     "metadata": {},
     "output_type": "execute_result"
    }
   ],
   "source": [
    "factory = MS2DeepScoreFlowFactory(\n",
    "    storage_root=storage_root,\n",
    "    model_registry_uri=\"sqlite:///mlflow.sqlite\",\n",
    "    mlflow_output_directory=storage_root / \"ms2deepscore/models\"\n",
    ")\n",
    "flow = factory.build_training_flow(\n",
    "    flow_name=\"ms2deepscore\",\n",
    "    fingerprint_n_bits=2048,\n",
    "    scores_decimals=5,\n",
    "    spectrum_binner_n_bins=10000,\n",
    "    epochs=5,\n",
    "    dataset_id=\"small_500\",\n",
    "    ion_mode=\"positive\",\n",
    "    train_ratio=0.8,\n",
    "    validation_ratio=0.2,\n",
    "    test_ratio=0.2,\n",
    "    image=\"image\",\n",
    "    project_name=\"ms2deepscore-positive\",\n",
    "    spectrum_ids_chunk_size=100,\n",
    ")\n",
    "flow"
   ]
  },
  {
   "cell_type": "markdown",
   "id": "10c86c81",
   "metadata": {},
   "source": [
    "## Run Training Flow"
   ]
  },
  {
   "cell_type": "code",
   "execution_count": 4,
   "id": "9727c23a",
   "metadata": {},
   "outputs": [
    {
     "name": "stdout",
     "output_type": "stream",
     "text": [
      "[2022-01-13 12:08:15-0300] INFO - prefect.FlowRunner | Beginning Flow run for 'ms2deepscore'\n",
      "[2022-01-13 12:08:15-0300] INFO - prefect.TaskRunner | Task 'DownloadData': Starting task run...\n",
      "[2022-01-13 12:08:15-0300] INFO - prefect.TaskRunner | Task 'DownloadData': Finished task run for task with final state: 'Cached'\n",
      "[2022-01-13 12:08:15-0300] INFO - prefect.TaskRunner | Task 'CreateChunks': Starting task run...\n",
      "[2022-01-13 12:08:15-0300] INFO - prefect.TaskRunner | Task 'CreateChunks': Finished task run for task with final state: 'Cached'\n",
      "[2022-01-13 12:08:15-0300] INFO - prefect.TaskRunner | Task 'CleanRawSpectra': Starting task run...\n",
      "[2022-01-13 12:08:15-0300] INFO - prefect.TaskRunner | Task 'CleanRawSpectra': Finished task run for task with final state: 'Mapped'\n",
      "[2022-01-13 12:08:15-0300] INFO - prefect.TaskRunner | Task 'CleanRawSpectra[0]': Starting task run...\n",
      "[2022-01-13 12:08:15-0300] INFO - prefect.CleanRawSpectra | Loading spectra from /Users/czanella/dev/datarevenue/omigami-core/notebooks/training/results/datasets/small_500/raw/positive/chunk_0.json.\n",
      "[2022-01-13 12:08:15-0300] INFO - prefect.CleanRawSpectra | Using cached result at /Users/czanella/dev/datarevenue/omigami-core/notebooks/training/results/datasets/small_500/cleaned/positive/chunk_0.pickle\n",
      "[2022-01-13 12:08:15-0300] INFO - prefect.TaskRunner | Task 'CleanRawSpectra[0]': Finished task run for task with final state: 'Success'\n",
      "[2022-01-13 12:08:15-0300] INFO - prefect.TaskRunner | Task 'ProcessSpectrum': Starting task run...\n",
      "[2022-01-13 12:08:15-0300] INFO - prefect.ProcessSpectrum | Loading cleaned spectra from directory /Users/czanella/dev/datarevenue/omigami-core/notebooks/training/results/datasets/small_500/cleaned/positive.\n",
      "[2022-01-13 12:08:15-0300] INFO - prefect.ProcessSpectrum | Cleaning and binning 500 spectra\n",
      "[2022-01-13 12:08:15-0300] INFO - prefect.ProcessSpectrum | Process Spectra task progress: 20%.\n",
      "[2022-01-13 12:08:15-0300] INFO - prefect.ProcessSpectrum | Process Spectra task progress: 40%.\n",
      "[2022-01-13 12:08:15-0300] INFO - prefect.ProcessSpectrum | Process Spectra task progress: 60%.\n",
      "[2022-01-13 12:08:15-0300] INFO - prefect.ProcessSpectrum | Process Spectra task progress: 80%.\n",
      "[2022-01-13 12:08:15-0300] INFO - prefect.ProcessSpectrum | Process Spectra task progress: 100%.\n",
      "Collect spectrum peaks...\n",
      "Calculated embedding dimension: 8837.\n",
      "Convert spectrums to binned spectrums...\n"
     ]
    },
    {
     "name": "stderr",
     "output_type": "stream",
     "text": [
      "Spectrum binning: 100%|███████████████████████████████████████████████████████████████████████████████████████████████████████████████████████████████████████████████████████████████████████████████| 336/336 [00:00<00:00, 5058.48it/s]\n",
      "Create BinnedSpectrum instances: 100%|███████████████████████████████████████████████████████████████████████████████████████████████████████████████████████████████████████████████████████████████| 336/336 [00:00<00:00, 60225.90it/s]"
     ]
    },
    {
     "name": "stdout",
     "output_type": "stream",
     "text": [
      "[2022-01-13 12:08:15-0300] INFO - prefect.ProcessSpectrum | Finished processing 336 binned spectra. Saving into spectrum database.\n",
      "[2022-01-13 12:08:15-0300] INFO - prefect.TaskRunner | Task 'ProcessSpectrum': Finished task run for task with final state: 'Success'\n",
      "[2022-01-13 12:08:15-0300] INFO - prefect.TaskRunner | Task 'CalculateTanimotoScore': Starting task run...\n",
      "[2022-01-13 12:08:15-0300] INFO - prefect.CalculateTanimotoScore | Calculating the Tanimoto Scores\n"
     ]
    },
    {
     "name": "stderr",
     "output_type": "stream",
     "text": [
      "\n"
     ]
    },
    {
     "name": "stdout",
     "output_type": "stream",
     "text": [
      "[2022-01-13 12:08:15-0300] INFO - prefect.CalculateTanimotoScore | Calculating Tanimoto scores for 147 unique InChIkeys\n",
      "[2022-01-13 12:08:16-0300] INFO - prefect.TaskRunner | Task 'CalculateTanimotoScore': Finished task run for task with final state: 'Success'\n",
      "[2022-01-13 12:08:16-0300] INFO - prefect.TaskRunner | Task 'TrainModel': Starting task run...\n",
      "The value for batch_size is set from 32 (default) to 32\n",
      "117 out of 147 InChIKeys found in selected spectrums.\n",
      "The value for batch_size is set from 32 (default) to 32\n",
      "29 out of 147 InChIKeys found in selected spectrums.\n",
      "The value for batch_size is set from 32 (default) to 32\n",
      "1 out of 147 InChIKeys found in selected spectrums.\n",
      "[2022-01-13 12:08:16-0300] INFO - prefect.TrainModel | 268 spectra in training data \n",
      "[2022-01-13 12:08:16-0300] INFO - prefect.TrainModel | 66 spectra in validation data \n",
      "[2022-01-13 12:08:16-0300] INFO - prefect.TrainModel | 2 spectra in test data \n",
      "Epoch 1/5\n"
     ]
    },
    {
     "name": "stderr",
     "output_type": "stream",
     "text": [
      "2022-01-13 12:08:16.906276: I tensorflow/core/platform/cpu_feature_guard.cc:142] This TensorFlow binary is optimized with oneAPI Deep Neural Network Library (oneDNN) to use the following CPU instructions in performance-critical operations:  SSE4.2\n",
      "To enable them in other operations, rebuild TensorFlow with the appropriate compiler flags.\n",
      "2022-01-13 12:08:16.930468: I tensorflow/compiler/mlir/mlir_graph_optimization_pass.cc:258] None of the MLIR optimization passes are enabled (registered 0 passes)\n"
     ]
    },
    {
     "name": "stdout",
     "output_type": "stream",
     "text": [
      "8/8 [==============================] - 1s 73ms/step - batch: 3.5000 - size: 32.0000 - loss: 0.1042 - val_loss: 0.4047\n",
      "Epoch 2/5\n",
      "1/8 [==>...........................] - ETA: 0s - batch: 0.0000e+00 - size: 32.0000 - loss: 0.0955"
     ]
    },
    {
     "name": "stderr",
     "output_type": "stream",
     "text": [
      "/Users/czanella/miniconda-r/envs/omigami/lib/python3.7/site-packages/tensorflow/python/keras/engine/training.py:2366: UserWarning: `Model.state_updates` will be removed in a future version. This property should not be used in TensorFlow 2.0, as `updates` are applied automatically.\n",
      "  warnings.warn('`Model.state_updates` will be removed in a future version. '\n"
     ]
    },
    {
     "name": "stdout",
     "output_type": "stream",
     "text": [
      "8/8 [==============================] - 1s 75ms/step - batch: 3.5000 - size: 32.0000 - loss: 0.1040 - val_loss: 0.4236\n",
      "Epoch 3/5\n",
      "8/8 [==============================] - 1s 82ms/step - batch: 3.5000 - size: 32.0000 - loss: 0.0992 - val_loss: 0.4014\n",
      "Epoch 4/5\n",
      "8/8 [==============================] - 1s 85ms/step - batch: 3.5000 - size: 32.0000 - loss: 0.0835 - val_loss: 0.4017\n",
      "Epoch 5/5\n",
      "8/8 [==============================] - 1s 84ms/step - batch: 3.5000 - size: 32.0000 - loss: 0.0724 - val_loss: 0.4184\n",
      "[2022-01-13 12:08:20-0300] INFO - prefect.TrainModel | Saving trained model to /Users/czanella/dev/datarevenue/omigami-core/notebooks/training/results/ms2deepscore/tmp/387cab63-c30a-4f8f-9989-bf39f6db841e/ms2deep_score.hdf5.\n",
      "[2022-01-13 12:08:20-0300] INFO - prefect.TaskRunner | Task 'TrainModel': Finished task run for task with final state: 'Success'\n",
      "[2022-01-13 12:08:20-0300] INFO - prefect.TaskRunner | Task 'RegisterModel': Starting task run...\n",
      "[2022-01-13 12:08:20-0300] INFO - prefect.RegisterModel | Registering model on URI sqlite:///mlflow.sqlite on path: /Users/czanella/dev/datarevenue/omigami-core/notebooks/training/results/ms2deepscore/models.\n"
     ]
    },
    {
     "name": "stderr",
     "output_type": "stream",
     "text": [
      "Registered model 'MS2DeepScore-positive' already exists. Creating a new version of this model...\n",
      "2022/01/13 12:08:21 INFO mlflow.tracking._model_registry.client: Waiting up to 300 seconds for model version to finish creation.                     Model name: MS2DeepScore-positive, version 2\n"
     ]
    },
    {
     "name": "stdout",
     "output_type": "stream",
     "text": [
      "[2022-01-13 12:08:21-0300] INFO - prefect.RegisterModel | Created model run_id: c204b0952fc24d7c99faf3220707f9da.\n",
      "[2022-01-13 12:08:21-0300] INFO - prefect.TaskRunner | Task 'RegisterModel': Finished task run for task with final state: 'Success'\n",
      "[2022-01-13 12:08:21-0300] INFO - prefect.FlowRunner | Flow run SUCCESS: all reference tasks succeeded\n"
     ]
    },
    {
     "name": "stderr",
     "output_type": "stream",
     "text": [
      "Created version '2' of model 'MS2DeepScore-positive'.\n"
     ]
    }
   ],
   "source": [
    "flow_run = flow.run()"
   ]
  },
  {
   "cell_type": "markdown",
   "id": "1a0749cd",
   "metadata": {},
   "source": [
    "## Output Model Path"
   ]
  },
  {
   "cell_type": "code",
   "execution_count": 5,
   "id": "daa9c8b2",
   "metadata": {},
   "outputs": [],
   "source": [
    "register_task = flow.get_tasks(\"RegisterModel\")[0]\n",
    "run_id = flow_run.result[register_task].result\n",
    "\n",
    "artifact_uri = mlflow.get_run(run_id).info.artifact_uri\n",
    "model_uri = f\"{artifact_uri}/model/python_model.pkl\""
   ]
  },
  {
   "cell_type": "code",
   "execution_count": 6,
   "id": "f17646c3",
   "metadata": {},
   "outputs": [
    {
     "name": "stdout",
     "output_type": "stream",
     "text": [
      "MS2DeepScore model is available at: /Users/czanella/dev/datarevenue/omigami-core/notebooks/training/results/ms2deepscore/models/c204b0952fc24d7c99faf3220707f9da/artifacts/model/python_model.pkl\n"
     ]
    }
   ],
   "source": [
    "print(f\"MS2DeepScore model is available at: {model_uri}\")"
   ]
  }
 ],
 "metadata": {
  "kernelspec": {
   "display_name": "Python 3 (ipykernel)",
   "language": "python",
   "name": "python3"
  },
  "language_info": {
   "codemirror_mode": {
    "name": "ipython",
    "version": 3
   },
   "file_extension": ".py",
   "mimetype": "text/x-python",
   "name": "python",
   "nbconvert_exporter": "python",
   "pygments_lexer": "ipython3",
   "version": "3.7.12"
  }
 },
 "nbformat": 4,
 "nbformat_minor": 5
}
