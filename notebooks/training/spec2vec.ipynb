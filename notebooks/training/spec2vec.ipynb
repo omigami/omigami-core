{
 "cells": [
  {
   "cell_type": "markdown",
   "id": "b1bed051",
   "metadata": {},
   "source": [
    "# Run Spec2Vec Training Flow Locally\n",
    "\n",
    "This notebook shows how Spec2Vec training flow can be run locally. Output is trained model path."
   ]
  },
  {
   "cell_type": "markdown",
   "id": "b8f6188f",
   "metadata": {},
   "source": [
    "## Imports"
   ]
  },
  {
   "cell_type": "code",
   "execution_count": 1,
   "id": "8f3626fd",
   "metadata": {},
   "outputs": [],
   "source": [
    "from omigami.spectra_matching.spec2vec.factory import Spec2VecFlowFactory\n",
    "import mlflow"
   ]
  },
  {
   "cell_type": "markdown",
   "id": "a7a642b9",
   "metadata": {},
   "source": [
    "## Build Training Flow\n",
    "\n",
    "You can adjust following parameters of your choice:\n",
    "- `flow-name`: Flow name\n",
    "- `iterations`: Spec2Vec model parameter\n",
    "- `window`: Spec2Vec model parameter\n",
    "- `intensity_weighting_power`: Spec2Vec model parameter\n",
    "- `allowed_missing_percentage`: Spec2Vec model parameter\n",
    "- `n_decimals`: Spec2Vec model parameter\n",
    "- `dataset_id`: dataset to train Spec2Vec model on, will download the data from a particular URL. Available options are:\n",
    "  - `small`: data from https://raw.githubusercontent.com/MLOps-architecture/share/main/test_data/SMALL_GNPS.json. This data is not up-to-date with GNPS.\n",
    "  - `small_500`: data from https://raw.githubusercontent.com/MLOps-architecture/share/main/test_data/SMALL_GNPS_500_spectra.json. This data is not up-to-date with GNPS.\n",
    "  - `10k`: This dataset has no url, but it uses first 10k spectra from GNPS. This data is not up-to-date with GNPS.\n",
    "  - `complete`: data from https://gnps-external.ucsd.edu/gnpslibrary/ALL_GNPS.json. This will always be up-to-datw with GNPS.\n",
    "- `ion_mode`: `\"positive\"` or `\"negative\"`\n",
    "\n",
    "Rest of the parameters can be stay as it is, as they are related to tools used in developing the flow."
   ]
  },
  {
   "cell_type": "code",
   "execution_count": 2,
   "id": "0f8990ee-d17e-499b-a996-f3cf6f089550",
   "metadata": {},
   "outputs": [],
   "source": [
    "from pathlib import Path\n",
    "storage_root = Path.cwd() / \"results\""
   ]
  },
  {
   "cell_type": "code",
   "execution_count": 3,
   "id": "3bb73133",
   "metadata": {},
   "outputs": [
    {
     "name": "stderr",
     "output_type": "stream",
     "text": [
      "/Users/czanella/miniconda-r/envs/omigami/lib/python3.7/contextlib.py:119: UserWarning: Tasks were created but not added to the flow: {<Task: Task>}. This can occur when `Task` classes, including `Parameters`, are instantiated inside a `with flow:` block but not added to the flow either explicitly or as the input to another task. For more information, see https://docs.prefect.io/core/advanced_tutorials/task-guide.html#adding-tasks-to-flows.\n",
      "  next(self.gen)\n"
     ]
    },
    {
     "data": {
      "text/plain": [
       "<Flow: name=\"spec2vec\">"
      ]
     },
     "execution_count": 3,
     "metadata": {},
     "output_type": "execute_result"
    }
   ],
   "source": [
    "factory = Spec2VecFlowFactory(\n",
    "    storage_root=storage_root,\n",
    "    model_registry_uri=\"sqlite:///mlflow.sqlite\",\n",
    "    mlflow_output_directory=str(storage_root / \"spec2vec/models\"),\n",
    ")\n",
    "flow = factory.build_training_flow(\n",
    "    flow_name=\"spec2vec\",\n",
    "    iterations=5,\n",
    "    window=10,\n",
    "    intensity_weighting_power=0.5,\n",
    "    allowed_missing_percentage=5.0,\n",
    "    n_decimals=2,\n",
    "    dataset_id=\"small\",\n",
    "    ion_mode=\"positive\",\n",
    "    project_name=\"spec2vec-positive\",\n",
    ")\n",
    "flow"
   ]
  },
  {
   "cell_type": "markdown",
   "id": "9f657b02",
   "metadata": {},
   "source": [
    "## Run Training Flow"
   ]
  },
  {
   "cell_type": "code",
   "execution_count": 4,
   "id": "13a61847",
   "metadata": {},
   "outputs": [
    {
     "name": "stdout",
     "output_type": "stream",
     "text": [
      "[2022-01-13 12:12:31-0300] INFO - prefect.FlowRunner | Beginning Flow run for 'spec2vec'\n",
      "[2022-01-13 12:12:31-0300] INFO - prefect.TaskRunner | Task 'DownloadData': Starting task run...\n",
      "[2022-01-13 12:12:32-0300] INFO - prefect.DownloadData | Downloaded 100 spectra from https://raw.githubusercontent.com/MLOps-architecture/share/main/test_data/SMALL_GNPS.json to /Users/czanella/dev/datarevenue/omigami-core/notebooks/training/results/datasets/small/gnps.json.\n",
      "[2022-01-13 12:12:32-0300] INFO - prefect.DownloadData | Saving spectrum ids to /Users/czanella/dev/datarevenue/omigami-core/notebooks/training/results/datasets/small/spectrum_ids.pkl\n",
      "[2022-01-13 12:12:32-0300] INFO - prefect.TaskRunner | Task 'DownloadData': Finished task run for task with final state: 'Success'\n",
      "[2022-01-13 12:12:32-0300] INFO - prefect.TaskRunner | Task 'CreateChunks': Starting task run...\n",
      "[2022-01-13 12:12:32-0300] INFO - prefect.CreateChunks | Loading file /Users/czanella/dev/datarevenue/omigami-core/notebooks/training/results/datasets/small/gnps.json for chunking.\n",
      "[2022-01-13 12:12:32-0300] INFO - prefect.CreateChunks | Split spectra into 1 chunks of size100000000\n",
      "[2022-01-13 12:12:32-0300] INFO - prefect.CreateChunks | Saving pickle with file paths to /Users/czanella/dev/datarevenue/omigami-core/notebooks/training/results/datasets/small/raw/positive/raw_chunk_paths.pickle\n",
      "[2022-01-13 12:12:32-0300] INFO - prefect.TaskRunner | Task 'CreateChunks': Finished task run for task with final state: 'Success'\n",
      "[2022-01-13 12:12:32-0300] INFO - prefect.TaskRunner | Task 'CleanRawSpectra': Starting task run...\n",
      "[2022-01-13 12:12:32-0300] INFO - prefect.TaskRunner | Task 'CleanRawSpectra': Finished task run for task with final state: 'Mapped'\n",
      "[2022-01-13 12:12:32-0300] INFO - prefect.TaskRunner | Task 'CreateDocuments': Starting task run...\n",
      "[2022-01-13 12:12:32-0300] INFO - prefect.TaskRunner | Task 'CreateDocuments': Finished task run for task with final state: 'Mapped'\n",
      "[2022-01-13 12:12:32-0300] INFO - prefect.TaskRunner | Task 'CleanRawSpectra[0]': Starting task run...\n",
      "[2022-01-13 12:12:32-0300] INFO - prefect.CleanRawSpectra | Loading spectra from /Users/czanella/dev/datarevenue/omigami-core/notebooks/training/results/datasets/small/raw/positive/chunk_0.json.\n",
      "[2022-01-13 12:12:32-0300] INFO - prefect.CleanRawSpectra | Cleaning 100 spectra.\n",
      "Added cleaned compound name: Sagitol B (Putative Analogue)\n",
      "Added cleaned compound name: PQS-C9 and NQNO mixture, 2-nonyl-3-hydroxy 4(1H)-quinolone\n",
      "[2022-01-13 12:12:32-0300] INFO - prefect.CleanRawSpectra | There are 100 spectra after cleaning.\n",
      "[2022-01-13 12:12:32-0300] INFO - prefect.CleanRawSpectra | Saving cleaned spectra to file /Users/czanella/dev/datarevenue/omigami-core/notebooks/training/results/datasets/small/cleaned/positive/chunk_0.pickle.\n",
      "[2022-01-13 12:12:32-0300] INFO - prefect.TaskRunner | Task 'CleanRawSpectra[0]': Finished task run for task with final state: 'Success'\n",
      "[2022-01-13 12:12:32-0300] INFO - prefect.TaskRunner | Task 'CreateDocuments[0]': Starting task run...\n",
      "[2022-01-13 12:12:32-0300] INFO - prefect.CreateDocuments | Loading spectra from path /Users/czanella/dev/datarevenue/omigami-core/notebooks/training/results/datasets/small/cleaned/positive/chunk_0.pickle.\n",
      "[2022-01-13 12:12:32-0300] INFO - prefect.CreateDocuments | Processing 100 spectra and converting into documents.\n",
      "[2022-01-13 12:12:32-0300] INFO - prefect.CreateDocuments | Process Spectra task progress: 20%.\n",
      "[2022-01-13 12:12:32-0300] INFO - prefect.CreateDocuments | Process Spectra task progress: 40%.\n",
      "[2022-01-13 12:12:32-0300] INFO - prefect.CreateDocuments | Process Spectra task progress: 60%.\n",
      "[2022-01-13 12:12:32-0300] INFO - prefect.CreateDocuments | Process Spectra task progress: 80%.\n",
      "[2022-01-13 12:12:32-0300] INFO - prefect.CreateDocuments | Process Spectra task progress: 100%.\n",
      "[2022-01-13 12:12:32-0300] INFO - prefect.CreateDocuments | Finished processing 100. Saving into spectrum filesystem.\n",
      "[2022-01-13 12:12:32-0300] INFO - prefect.CreateDocuments | Saving documents to /Users/czanella/dev/datarevenue/omigami-core/notebooks/training/results/spec2vec/documents/positive/small/2_decimals/chunk_0.pickle.\n",
      "[2022-01-13 12:12:32-0300] INFO - prefect.TaskRunner | Task 'CreateDocuments[0]': Finished task run for task with final state: 'Success'\n",
      "[2022-01-13 12:12:32-0300] INFO - prefect.TaskRunner | Task 'TrainModel': Starting task run...\n",
      "[2022-01-13 12:12:32-0300] INFO - prefect.TrainModel | Loading documents from ['/Users/czanella/dev/datarevenue/omigami-core/notebooks/training/results/spec2vec/documents/positive/small/2_decimals/chunk_0.pickle']\n",
      "[2022-01-13 12:12:32-0300] INFO - prefect.TrainModel | Started training the Word2Vec model on {len(documents)} documents.\n",
      "The value of window is set from 500 (default) to 10\n",
      "[2022-01-13 12:12:36-0300] INFO - prefect.TrainModel | Finished training the model. Saving model to /Users/czanella/dev/datarevenue/omigami-core/notebooks/training/results/spec2vec/models/tmp/bd9cd92a-e796-420d-85c5-b78eaf06b394/word2vec.pickle\n",
      "[2022-01-13 12:12:36-0300] INFO - prefect.TaskRunner | Task 'TrainModel': Finished task run for task with final state: 'Success'\n",
      "[2022-01-13 12:12:36-0300] INFO - prefect.TaskRunner | Task 'RegisterModel': Starting task run...\n",
      "[2022-01-13 12:12:36-0300] INFO - prefect.RegisterModel | Registering model to sqlite:///mlflow.sqlite on URI: /Users/czanella/dev/datarevenue/omigami-core/notebooks/training/results/spec2vec/models.\n"
     ]
    },
    {
     "name": "stderr",
     "output_type": "stream",
     "text": [
      "Successfully registered model 'spec2vec-model'.\n",
      "2022/01/13 12:12:36 INFO mlflow.tracking._model_registry.client: Waiting up to 300 seconds for model version to finish creation.                     Model name: spec2vec-model, version 1\n"
     ]
    },
    {
     "name": "stdout",
     "output_type": "stream",
     "text": [
      "[2022-01-13 12:12:36-0300] INFO - prefect.RegisterModel | Created model run_id: f523919f81134dd88f30caf99fb1bfe3.\n",
      "[2022-01-13 12:12:36-0300] INFO - prefect.TaskRunner | Task 'RegisterModel': Finished task run for task with final state: 'Success'\n",
      "[2022-01-13 12:12:36-0300] INFO - prefect.FlowRunner | Flow run SUCCESS: all reference tasks succeeded\n"
     ]
    },
    {
     "name": "stderr",
     "output_type": "stream",
     "text": [
      "Created version '1' of model 'spec2vec-model'.\n"
     ]
    }
   ],
   "source": [
    "flow_run = flow.run()"
   ]
  },
  {
   "cell_type": "markdown",
   "id": "f25c0328",
   "metadata": {},
   "source": [
    "## Output Model Path"
   ]
  },
  {
   "cell_type": "code",
   "execution_count": 5,
   "id": "1be218e9",
   "metadata": {},
   "outputs": [],
   "source": [
    "register_task = flow.get_tasks(\"RegisterModel\")[0]\n",
    "run_id = flow_run.result[register_task].result\n",
    "\n",
    "artifact_uri = mlflow.get_run(run_id).info.artifact_uri\n",
    "model_uri = f\"{artifact_uri}/model/python_model.pkl\""
   ]
  },
  {
   "cell_type": "code",
   "execution_count": 6,
   "id": "4874dab4",
   "metadata": {},
   "outputs": [
    {
     "name": "stdout",
     "output_type": "stream",
     "text": [
      "Spec2Vec model is available at: /Users/czanella/dev/datarevenue/omigami-core/notebooks/training/results/spec2vec/models/f523919f81134dd88f30caf99fb1bfe3/artifacts/model/python_model.pkl\n"
     ]
    }
   ],
   "source": [
    "print(f\"Spec2Vec model is available at: {model_uri}\")"
   ]
  },
  {
   "cell_type": "code",
   "execution_count": null,
   "id": "b03f20ef",
   "metadata": {},
   "outputs": [],
   "source": []
  }
 ],
 "metadata": {
  "kernelspec": {
   "display_name": "Python 3 (ipykernel)",
   "language": "python",
   "name": "python3"
  },
  "language_info": {
   "codemirror_mode": {
    "name": "ipython",
    "version": 3
   },
   "file_extension": ".py",
   "mimetype": "text/x-python",
   "name": "python",
   "nbconvert_exporter": "python",
   "pygments_lexer": "ipython3",
   "version": "3.7.12"
  }
 },
 "nbformat": 4,
 "nbformat_minor": 5
}
