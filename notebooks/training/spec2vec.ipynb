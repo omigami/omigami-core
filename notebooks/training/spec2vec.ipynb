{
 "cells": [
  {
   "cell_type": "markdown",
   "id": "b1bed051",
   "metadata": {},
   "source": [
    "# Run Spec2Vec Training Flow Locally\n",
    "\n",
    "This notebook shows how Spec2Vec training flow can be run locally. Output is trained model path.\n",
    "![spec2vec_training_flow](spec2vec_training_flow.png)"
   ]
  },
  {
   "cell_type": "markdown",
   "id": "b8f6188f",
   "metadata": {},
   "source": [
    "## Imports"
   ]
  },
  {
   "cell_type": "code",
   "execution_count": 1,
   "id": "8f3626fd",
   "metadata": {},
   "outputs": [],
   "source": [
    "from omigami.spectra_matching.spec2vec.factory import Spec2VecFlowFactory\n",
    "import mlflow"
   ]
  },
  {
   "cell_type": "markdown",
   "id": "a7a642b9",
   "metadata": {},
   "source": [
    "## Build Training Flow\n",
    "\n",
    "You can adjust following parameters of your choice:\n",
    "- `flow-name`: Flow name\n",
    "- `iterations`: Spec2Vec model parameter\n",
    "- `window`: Spec2Vec model parameter\n",
    "- `intensity_weighting_power`: Spec2Vec model parameter\n",
    "- `allowed_missing_percentage`: Spec2Vec model parameter\n",
    "- `n_decimals`: Spec2Vec model parameter\n",
    "- `dataset_id`: dataset to train Spec2Vec model on, will download the data from a particular URL. Available options are:\n",
    "  - `small`: data from https://raw.githubusercontent.com/MLOps-architecture/share/main/test_data/SMALL_GNPS.json. This data is not up-to-date with GNPS.\n",
    "  - `small_500`: data from https://raw.githubusercontent.com/MLOps-architecture/share/main/test_data/SMALL_GNPS_500_spectra.json. This data is not up-to-date with GNPS.\n",
    "  - `10k`: This dataset has no url, but it uses first 10k spectra from GNPS. This data is not up-to-date with GNPS.\n",
    "  - `complete`: data from https://gnps-external.ucsd.edu/gnpslibrary/ALL_GNPS.json. This will always be up-to-datw with GNPS.\n",
    "- `ion_mode`: `\"positive\"` or `\"negative\"`\n",
    "\n",
    "Rest of the parameters can be stay as it is, as they are related to tools used in developing the flow."
   ]
  },
  {
   "cell_type": "code",
   "execution_count": 2,
   "id": "3bb73133",
   "metadata": {},
   "outputs": [
    {
     "name": "stderr",
     "output_type": "stream",
     "text": [
      "/Users/cereniyim/opt/miniconda3/envs/omigami/lib/python3.7/contextlib.py:119: UserWarning: Tasks were created but not added to the flow: {<Task: Task>}. This can occur when `Task` classes, including `Parameters`, are instantiated inside a `with flow:` block but not added to the flow either explicitly or as the input to another task. For more information, see https://docs.prefect.io/core/advanced_tutorials/task-guide.html#adding-tasks-to-flows.\n",
      "  next(self.gen)\n"
     ]
    },
    {
     "data": {
      "text/plain": [
       "<Flow: name=\"spec2vec\">"
      ]
     },
     "execution_count": 2,
     "metadata": {},
     "output_type": "execute_result"
    }
   ],
   "source": [
    "factory = Spec2VecFlowFactory()\n",
    "flow = factory.build_training_flow(\n",
    "    flow_name=\"spec2vec\",\n",
    "    iterations=5,\n",
    "    window=10,\n",
    "    intensity_weighting_power=0.5,\n",
    "    allowed_missing_percentage=5.0,\n",
    "    n_decimals=2,\n",
    "    dataset_id=\"small\",\n",
    "    ion_mode=\"positive\",\n",
    "    project_name=\"spec2vec-positive\",\n",
    "    image=\"image\",\n",
    ")\n",
    "flow"
   ]
  },
  {
   "cell_type": "markdown",
   "id": "9f657b02",
   "metadata": {},
   "source": [
    "## Run Training Flow"
   ]
  },
  {
   "cell_type": "code",
   "execution_count": 3,
   "id": "13a61847",
   "metadata": {},
   "outputs": [
    {
     "name": "stdout",
     "output_type": "stream",
     "text": [
      "[2022-01-12 16:18:04+0300] INFO - prefect.FlowRunner | Beginning Flow run for 'spec2vec'\n",
      "[2022-01-12 16:18:04+0300] INFO - prefect.TaskRunner | Task 'DownloadData': Starting task run...\n",
      "[2022-01-12 16:18:04+0300] INFO - prefect.TaskRunner | Task 'DownloadData': Finished task run for task with final state: 'Cached'\n",
      "[2022-01-12 16:18:04+0300] INFO - prefect.TaskRunner | Task 'CreateChunks': Starting task run...\n",
      "[2022-01-12 16:18:04+0300] INFO - prefect.TaskRunner | Task 'CreateChunks': Finished task run for task with final state: 'Cached'\n",
      "[2022-01-12 16:18:04+0300] INFO - prefect.TaskRunner | Task 'CleanRawSpectra': Starting task run...\n",
      "[2022-01-12 16:18:04+0300] INFO - prefect.TaskRunner | Task 'CleanRawSpectra': Finished task run for task with final state: 'Mapped'\n",
      "[2022-01-12 16:18:04+0300] INFO - prefect.TaskRunner | Task 'CacheCleanedSpectra': Starting task run...\n",
      "[2022-01-12 16:18:04+0300] INFO - prefect.TaskRunner | Task 'CacheCleanedSpectra': Finished task run for task with final state: 'Mapped'\n",
      "[2022-01-12 16:18:04+0300] INFO - prefect.TaskRunner | Task 'CreateDocuments': Starting task run...\n",
      "[2022-01-12 16:18:04+0300] INFO - prefect.TaskRunner | Task 'CreateDocuments': Finished task run for task with final state: 'Mapped'\n",
      "[2022-01-12 16:18:04+0300] INFO - prefect.TaskRunner | Task 'CleanRawSpectra[0]': Starting task run...\n",
      "[2022-01-12 16:18:04+0300] INFO - prefect.CleanRawSpectra | Loading spectra from /Users/cereniyim/GitHub/omigami-core/local-deployment/results/datasets/small/raw/positive/chunk_0.json.\n",
      "[2022-01-12 16:18:04+0300] INFO - prefect.CleanRawSpectra | Using cached result at /Users/cereniyim/GitHub/omigami-core/local-deployment/results/datasets/small/cleaned/positive/chunk_0.pickle\n",
      "[2022-01-12 16:18:04+0300] INFO - prefect.TaskRunner | Task 'CleanRawSpectra[0]': Finished task run for task with final state: 'Success'\n",
      "[2022-01-12 16:18:05+0300] INFO - prefect.TaskRunner | Task 'CreateDocuments[0]': Starting task run...\n",
      "[2022-01-12 16:18:05+0300] INFO - prefect.CreateDocuments | Using cached existing file on /Users/cereniyim/GitHub/omigami-core/local-deployment/results/spec2vec/documents/positive/small/2_decimals/chunk_0.pickle\n",
      "[2022-01-12 16:18:05+0300] INFO - prefect.TaskRunner | Task 'CreateDocuments[0]': Finished task run for task with final state: 'Success'\n",
      "[2022-01-12 16:18:05+0300] INFO - prefect.TaskRunner | Task 'TrainModel': Starting task run...\n",
      "[2022-01-12 16:18:05+0300] INFO - prefect.TrainModel | Loading examples from ['/Users/cereniyim/GitHub/omigami-core/local-deployment/results/spec2vec/documents/positive/small/2_decimals/chunk_0.pickle']\n",
      "[2022-01-12 16:18:05+0300] INFO - prefect.TrainModel | Started training the Word2Vec model.\n",
      "The value of window is set from 500 (default) to 10\n",
      "[2022-01-12 16:18:08+0300] INFO - prefect.TrainModel |  Epoch 1 of 5.\n",
      "[2022-01-12 16:18:08+0300] INFO - prefect.TrainModel | Change in loss after epoch 1: 42474.21875\n",
      "[2022-01-12 16:18:08+0300] INFO - prefect.TrainModel |  Epoch 2 of 5.\n",
      "[2022-01-12 16:18:08+0300] INFO - prefect.TrainModel | Change in loss after epoch 2: 42454.6953125\n",
      "[2022-01-12 16:18:08+0300] INFO - prefect.TrainModel |  Epoch 3 of 5.\n",
      "[2022-01-12 16:18:08+0300] INFO - prefect.TrainModel | Change in loss after epoch 3: 42378.640625\n",
      "[2022-01-12 16:18:09+0300] INFO - prefect.TrainModel |  Epoch 4 of 5.\n",
      "[2022-01-12 16:18:09+0300] INFO - prefect.TrainModel | Change in loss after epoch 4: 42544.6796875\n",
      "[2022-01-12 16:18:09+0300] INFO - prefect.TrainModel |  Epoch 5 of 5.\n",
      "[2022-01-12 16:18:09+0300] INFO - prefect.TrainModel | Change in loss after epoch 5: 42554.5625\n",
      "[2022-01-12 16:18:09+0300] INFO - prefect.TrainModel | Trained model on 100 examples.\n",
      "[2022-01-12 16:18:09+0300] INFO - prefect.TrainModel | Finished training the model.\n",
      "[2022-01-12 16:18:09+0300] INFO - prefect.TaskRunner | Task 'TrainModel': Finished task run for task with final state: 'Success'\n",
      "[2022-01-12 16:18:09+0300] INFO - prefect.TaskRunner | Task 'RegisterModel': Starting task run...\n",
      "[2022-01-12 16:18:09+0300] INFO - prefect.RegisterModel | Registering model to sqlite:////Users/cereniyim/GitHub/omigami-core/local-deployment/results/mlflow.sqlite on URI: /Users/cereniyim/GitHub/omigami-core/local-deployment/results/mlflow.\n"
     ]
    },
    {
     "name": "stderr",
     "output_type": "stream",
     "text": [
      "Registered model 'spec2vec-model' already exists. Creating a new version of this model...\n",
      "2022/01/12 16:18:12 INFO mlflow.tracking._model_registry.client: Waiting up to 300 seconds for model version to finish creation.                     Model name: spec2vec-model, version 3\n"
     ]
    },
    {
     "name": "stdout",
     "output_type": "stream",
     "text": [
      "[2022-01-12 16:18:12+0300] INFO - prefect.RegisterModel | Created model run_id: a04ba1d61b1c44f2aa8d3f0e23866113.\n",
      "[2022-01-12 16:18:12+0300] INFO - prefect.TaskRunner | Task 'RegisterModel': Finished task run for task with final state: 'Success'\n",
      "[2022-01-12 16:18:12+0300] INFO - prefect.TaskRunner | Task 'CacheCleanedSpectra[0]': Starting task run...\n",
      "[2022-01-12 16:18:12+0300] INFO - prefect.CacheCleanedSpectra | Loading spectra from /Users/cereniyim/GitHub/omigami-core/local-deployment/results/datasets/small/cleaned/positive/chunk_0.pickle\n",
      "[2022-01-12 16:18:12+0300] INFO - prefect.CacheCleanedSpectra | Finished loading file. File contains 100 spectra.\n",
      "[2022-01-12 16:18:12+0300] INFO - prefect.CacheCleanedSpectra | There is no new spectra to save.\n",
      "[2022-01-12 16:18:12+0300] INFO - prefect.TaskRunner | Task 'CacheCleanedSpectra[0]': Finished task run for task with final state: 'Success'\n"
     ]
    },
    {
     "name": "stderr",
     "output_type": "stream",
     "text": [
      "Created version '3' of model 'spec2vec-model'.\n"
     ]
    },
    {
     "name": "stdout",
     "output_type": "stream",
     "text": [
      "[2022-01-12 16:18:12+0300] INFO - prefect.FlowRunner | Flow run SUCCESS: all reference tasks succeeded\n"
     ]
    }
   ],
   "source": [
    "flow_run = flow.run()"
   ]
  },
  {
   "cell_type": "markdown",
   "id": "f25c0328",
   "metadata": {},
   "source": [
    "## Output Model Path"
   ]
  },
  {
   "cell_type": "code",
   "execution_count": 4,
   "id": "1be218e9",
   "metadata": {},
   "outputs": [],
   "source": [
    "register_task = flow.get_tasks(\"RegisterModel\")[0]\n",
    "run_id = flow_run.result[register_task].result\n",
    "\n",
    "artifact_uri = mlflow.get_run(run_id).info.artifact_uri\n",
    "model_uri = f\"{artifact_uri}/model/python_model.pkl\""
   ]
  },
  {
   "cell_type": "code",
   "execution_count": 5,
   "id": "4874dab4",
   "metadata": {},
   "outputs": [
    {
     "name": "stdout",
     "output_type": "stream",
     "text": [
      "Spec2Vec model is available at: /Users/cereniyim/GitHub/omigami-core/local-deployment/results/mlflow/a04ba1d61b1c44f2aa8d3f0e23866113/artifacts/model/python_model.pkl\n"
     ]
    }
   ],
   "source": [
    "print(f\"Spec2Vec model is available at: {model_uri}\")"
   ]
  },
  {
   "cell_type": "code",
   "execution_count": null,
   "id": "b03f20ef",
   "metadata": {},
   "outputs": [],
   "source": []
  }
 ],
 "metadata": {
  "kernelspec": {
   "display_name": "Python 3 (ipykernel)",
   "language": "python",
   "name": "python3"
  },
  "language_info": {
   "codemirror_mode": {
    "name": "ipython",
    "version": 3
   },
   "file_extension": ".py",
   "mimetype": "text/x-python",
   "name": "python",
   "nbconvert_exporter": "python",
   "pygments_lexer": "ipython3",
   "version": "3.7.12"
  }
 },
 "nbformat": 4,
 "nbformat_minor": 5
}
